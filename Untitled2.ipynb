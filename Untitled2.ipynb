{
  "nbformat": 4,
  "nbformat_minor": 0,
  "metadata": {
    "colab": {
      "provenance": []
    },
    "kernelspec": {
      "name": "python3",
      "display_name": "Python 3"
    },
    "language_info": {
      "name": "python"
    }
  },
  "cells": [
    {
      "cell_type": "markdown",
      "source": [
        "NAME: SINGIREDDY AMULYA REDDY\n",
        "\n",
        "REGNO: 20233273\n",
        "\n",
        "SEC: D\n"
      ],
      "metadata": {
        "id": "RxQ16n2Qc0XA"
      }
    },
    {
      "cell_type": "code",
      "execution_count": null,
      "metadata": {
        "id": "aX8C-Dz5aXMm"
      },
      "outputs": [],
      "source": [
        "\n",
        "import numpy as np\n",
        "from collections import defaultdict\n",
        "\n",
        "class NaiveBayesClassifier:\n",
        "    def __init__(self):\n",
        "        self.priors = {}\n",
        "        self.likelihoods = {}\n",
        "        self.classes = set()\n",
        "\n",
        "    def fit(self, X_train, y_train):\n",
        "        # Calculate prior probabilities\n",
        "        self.classes = set(y_train)\n",
        "        for c in self.classes:\n",
        "            self.priors[c] = np.mean(np.array(y_train) == c)\n",
        "\n",
        "        # Calculate likelihoods\n",
        "        word_counts = {c: defaultdict(int) for c in self.classes}\n",
        "        total_words = {c: 0 for c in self.classes}\n",
        "\n",
        "        for email, label in zip(X_train, y_train):\n",
        "            for word, count in email.items():\n",
        "                word_counts[label][word] += count\n",
        "                total_words[label] += count\n",
        "\n",
        "        for c in self.classes:\n",
        "            self.likelihoods[c] = {}\n",
        "            for word in word_counts[c]:\n",
        "                self.likelihoods[c][word] = (word_counts[c][word] + 1) / (\n",
        "                    total_words[c] + len(word_counts[c])\n",
        "                )\n",
        "\n",
        "    def predict(self, X_test):\n",
        "        predictions = []\n",
        "        for email in X_test:\n",
        "            posteriors = {}\n",
        "\n",
        "            for c in self.classes:\n",
        "                posteriors[c] = np.log(self.priors[c])\n",
        "\n",
        "                for word, count in email.items():\n",
        "                    if word in self.likelihoods[c]:\n",
        "                        posteriors[c] += np.log(self.likelihoods[c][word]) * count\n",
        "                    else:\n",
        "                        # Laplace smoothing for unseen words\n",
        "                        posteriors[c] += np.log(\n",
        "                            1 / (sum(len(self.likelihoods[c]) for c in self.classes) + len(self.likelihoods[c]))\n",
        "                        ) * count\n",
        "\n",
        "            predictions.append(max(posteriors, key=posteriors.get))\n",
        "        return predictions\n",
        "\n",
        "    def evaluate(self, X_test, y_test):\n",
        "        predictions = self.predict(X_test)\n",
        "        accuracy = np.mean(np.array(predictions) == np.array(y_test))\n",
        "        return accuracy\n"
      ]
    },
    {
      "cell_type": "code",
      "source": [
        "if __name__ == \"__main__\":\n",
        "    dataset = [\n",
        "        ({\"offer\": 3, \"win\": 2, \"prize\": 1, \"click\": 4, \"free\": 2}, \"spam\"),\n",
        "        ({\"hello\": 2, \"meeting\": 3, \"schedule\": 1, \"project\": 5, \"team\": 4}, \"ham\"),\n",
        "        ({\"money\": 5, \"transfer\": 3, \"account\": 2, \"urgent\": 4, \"link\": 1}, \"spam\"),\n",
        "        ({\"assignment\": 3, \"deadline\": 2, \"submit\": 4, \"professor\": 1, \"university\": 2}, \"ham\"),\n",
        "        ({\"discount\": 2, \"limited\": 3, \"offer\": 5, \"buy\": 4, \"now\": 6}, \"spam\"),\n",
        "        ({\"family\": 3, \"trip\": 4, \"vacation\": 2, \"plans\": 5, \"tickets\": 6}, \"ham\"),\n",
        "        ({\"lottery\": 5, \"winner\": 2, \"prize\": 3, \"congratulations\": 1, \"claim\": 4}, \"spam\"),\n",
        "        ({\"meeting\": 1, \"agenda\": 2, \"discuss\": 3, \"tasks\": 4, \"workshop\": 5}, \"ham\"),\n",
        "        ({\"investment\": 4, \"profits\": 3, \"opportunity\": 5, \"risk-free\": 2, \"money\": 6}, \"spam\"),\n",
        "        ({\"friend\": 2, \"birthday\": 5, \"party\": 3, \"invite\": 4, \"venue\": 1}, \"ham\")\n",
        "    ]\n",
        "\n",
        "    # Split dataset (80% training, 20% testing)\n",
        "    split_idx = int(0.8 * len(dataset))\n",
        "    train_data, test_data = dataset[:split_idx], dataset[split_idx:]\n",
        "\n",
        "    # Prepare training and testing data\n",
        "    X_train = [email for email, label in train_data]\n",
        "    y_train = [label for email, label in train_data]\n",
        "    X_test = [email for email, label in test_data]\n",
        "    y_test = [label for email, label in test_data]\n",
        "\n",
        "    # Initialize and train the classifier\n",
        "    nb_classifier = NaiveBayesClassifier()\n",
        "    nb_classifier.fit(X_train, y_train)\n",
        "\n",
        "    # Evaluate the classifier\n",
        "    accuracy = nb_classifier.evaluate(X_test, y_test)\n",
        "    print(f\"Accuracy: {accuracy:.2f}\")\n"
      ],
      "metadata": {
        "colab": {
          "base_uri": "https://localhost:8080/"
        },
        "id": "oY4IYN2WbR3D",
        "outputId": "9837feb0-1efc-4dcb-8d4c-c03994765465"
      },
      "execution_count": null,
      "outputs": [
        {
          "output_type": "stream",
          "name": "stdout",
          "text": [
            "Accuracy: 0.50\n"
          ]
        }
      ]
    }
  ]
}